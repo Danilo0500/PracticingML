{
 "cells": [
  {
   "cell_type": "markdown",
   "id": "700bcfff",
   "metadata": {},
   "source": [
    "# Visualize performance"
   ]
  },
  {
   "cell_type": "markdown",
   "id": "5eeae06a",
   "metadata": {},
   "source": [
    "## Confusion matrix"
   ]
  },
  {
   "cell_type": "code",
   "execution_count": 2,
   "id": "084ef265",
   "metadata": {
    "ExecuteTime": {
     "end_time": "2023-08-14T01:56:33.111872Z",
     "start_time": "2023-08-14T01:56:32.972412Z"
    }
   },
   "outputs": [],
   "source": [
    "import numpy as np\n",
    "import itertools\n",
    "from sklearn.utils import resample\n",
    "from sklearn.metrics import confusion_matrix\n",
    "import matplotlib.pyplot as plt\n",
    "\n",
    "def plot_confusion_matrix_with_std(model, X_test, y_test, n_samples, classes, model_name='', normalize=False, cmap=plt.cm.Blues, fmt='.3f', figsize=(10, 10), scale=1.0):\n",
    "    \"\"\"\n",
    "    Plots a confusion matrix along with standard deviations for a given model's predictions. Works for multiclass models\n",
    "\n",
    "    Parameters:\n",
    "        model (object): The trained classification model.\n",
    "        X_test (array-like): Test data features.\n",
    "        y_test (array-like): True labels corresponding to the test data.\n",
    "        n_samples (int): Number of bootstrap samples for standard deviation calculation.\n",
    "        classes (list): List of class labels.\n",
    "        model_name (str, optional): Name of the model for plot title. Default is an empty string.\n",
    "        normalize (bool, optional): If True, normalize the confusion matrix and standard deviations. Default is False.\n",
    "        cmap (colormap, optional): Colormap for the plot. Default is plt.cm.Blues.\n",
    "        fmt (str, optional): Format string for formatting values. Default is '.4f'.\n",
    "        figsize (tuple, optional): Figure size in inches (width, height). Default is (10, 10).\n",
    "        scale (float, optional): Scaling factor for font sizes. Default is 1.0.\n",
    "\n",
    "    Returns:\n",
    "        None (displays the plot).\n",
    "\n",
    "    Example:\n",
    "        # Assuming you have a trained model, X_test, y_test, and class labels\n",
    "        n_samples = 100  # Number of bootstrap samples\n",
    "        model_name = \"Your Model Name\"\n",
    "        plot_confusion_matrix_with_std(model, X_test, y_test, n_samples, classes, model_name, normalize=True, scale=1.2)\n",
    "    \"\"\"\n",
    "    # Valid for sklearn and tensorflow models\n",
    "    try:\n",
    "        y_pred_proba = model.predict(X_test)\n",
    "        y_pred = np.argmax(y_pred_proba, axis=1)\n",
    "    except:\n",
    "        y_pred = model.predict(X_test)\n",
    "\n",
    "    cm = confusion_matrix(y_test, y_pred)\n",
    "    cm_std = []\n",
    "\n",
    "    np.random.seed(42)\n",
    "\n",
    "    random_states = [np.random.randint(0, 100) for _ in range(n_samples)]\n",
    "\n",
    "    for i, random_state in enumerate(random_states):\n",
    "        X_test_sample, y_test_sample = resample(X_test, y_test, random_state=random_state)\n",
    "        y_pred = model.predict(X_test_sample)\n",
    "        cm_sample = confusion_matrix(y_test_sample, y_pred, labels=range(len(classes)))\n",
    "        cm_std.append(cm_sample)\n",
    "\n",
    "    cm_std = np.std(cm_std, axis=0)\n",
    "    \n",
    "    if normalize:\n",
    "        cm_std = cm_std.astype('float') / cm.sum(axis=1)[:, np.newaxis]\n",
    "        cm = cm.astype('float') / cm.sum(axis=1)[:, np.newaxis]\n",
    "\n",
    "    plt.figure(figsize=figsize)\n",
    "    plt.imshow(cm, interpolation='nearest', cmap=cmap)\n",
    "    \n",
    "    plt.title(f\"Confusion matrix {'(normalized)' if normalize else ''} for {model_name} model\", fontsize=14 * scale)\n",
    "    plt.colorbar()\n",
    "\n",
    "    # Set colorbar limits to [0, 1] for normalized confusion matrix\n",
    "    if normalize:\n",
    "        plt.clim(0, 1)\n",
    "\n",
    "    tick_marks = np.arange(len(classes))\n",
    "    plt.xticks(tick_marks, classes, rotation=45, fontsize=10 * scale)\n",
    "    plt.yticks(tick_marks, classes, fontsize=10 * scale)\n",
    "\n",
    "    fmt = fmt if normalize else '.0f'\n",
    "    thresh = cm.max() / 2.\n",
    "    for i, j in itertools.product(range(cm.shape[0]), range(cm.shape[1])):\n",
    "        plt.text(j, i, f\"{format(cm[i, j], fmt)} ± {format(cm_std[i, j], fmt)}\",\n",
    "                horizontalalignment=\"center\",\n",
    "                color=\"white\" if cm[i, j] > thresh else \"black\", fontsize=8 * scale)\n",
    "\n",
    "    plt.tight_layout()\n",
    "    plt.ylabel('True label', fontsize=12 * scale)\n",
    "    plt.xlabel('Predicted label', fontsize=12 * scale)\n",
    "    plt.show()\n"
   ]
  },
  {
   "cell_type": "markdown",
   "id": "c2038672",
   "metadata": {},
   "source": [
    "DEMOSTRATION"
   ]
  },
  {
   "cell_type": "code",
   "execution_count": 3,
   "id": "04052456",
   "metadata": {
    "ExecuteTime": {
     "end_time": "2023-08-14T01:56:33.126816Z",
     "start_time": "2023-08-14T01:56:33.116821Z"
    }
   },
   "outputs": [],
   "source": [
    "# import numpy as np\n",
    "# from sklearn.datasets import make_classification\n",
    "# from sklearn.model_selection import train_test_split\n",
    "# from sklearn.ensemble import RandomForestClassifier\n",
    "\n",
    "# # Create synthetic data\n",
    "# X, y = make_classification(n_samples=1000, n_features=5, n_classes=4, n_clusters_per_class=1, random_state=42)\n",
    "\n",
    "# # Split the data into training and testing sets\n",
    "# X_train, X_test, y_train, y_test = train_test_split(X, y, test_size=0.2, random_state=42)\n",
    "\n",
    "# # Create a RandomForestClassifier (you can replace this with your own model)\n",
    "# model = RandomForestClassifier(random_state=42)\n",
    "# model.fit(X_train, y_train)\n",
    "\n",
    "# # Define the class labels\n",
    "# classes = [f'Class {i}' for i in range(4)]\n",
    "\n",
    "# # Use the plot_confusion_matrix_with_std function\n",
    "# plot_confusion_matrix_with_std(model, X_test, y_test, n_samples=50, classes=classes, model_name='Random Forest', normalize=True, scale=1.3)\n"
   ]
  }
 ],
 "metadata": {
  "kernelspec": {
   "display_name": "Python 3 (ipykernel)",
   "language": "python",
   "name": "python3"
  },
  "language_info": {
   "codemirror_mode": {
    "name": "ipython",
    "version": 3
   },
   "file_extension": ".py",
   "mimetype": "text/x-python",
   "name": "python",
   "nbconvert_exporter": "python",
   "pygments_lexer": "ipython3",
   "version": "3.9.13"
  },
  "toc": {
   "base_numbering": 1,
   "nav_menu": {},
   "number_sections": true,
   "sideBar": true,
   "skip_h1_title": false,
   "title_cell": "Table of Contents",
   "title_sidebar": "Contents",
   "toc_cell": false,
   "toc_position": {},
   "toc_section_display": true,
   "toc_window_display": false
  },
  "varInspector": {
   "cols": {
    "lenName": 16,
    "lenType": 16,
    "lenVar": 40
   },
   "kernels_config": {
    "python": {
     "delete_cmd_postfix": "",
     "delete_cmd_prefix": "del ",
     "library": "var_list.py",
     "varRefreshCmd": "print(var_dic_list())"
    },
    "r": {
     "delete_cmd_postfix": ") ",
     "delete_cmd_prefix": "rm(",
     "library": "var_list.r",
     "varRefreshCmd": "cat(var_dic_list()) "
    }
   },
   "types_to_exclude": [
    "module",
    "function",
    "builtin_function_or_method",
    "instance",
    "_Feature"
   ],
   "window_display": false
  }
 },
 "nbformat": 4,
 "nbformat_minor": 5
}
